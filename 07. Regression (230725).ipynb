{
 "cells": [
  {
   "cell_type": "code",
   "execution_count": 2,
   "id": "4c491b85",
   "metadata": {},
   "outputs": [
    {
     "data": {
      "text/plain": [
       "<keras.callbacks.History at 0x17b753fb760>"
      ]
     },
     "execution_count": 2,
     "metadata": {},
     "output_type": "execute_result"
    }
   ],
   "source": [
    "# 간단한 Simple Linear Regression 구현\n",
    "# Tensorflow\n",
    "\n",
    "import numpy as np\n",
    "import pandas as pd\n",
    "from tensorflow.keras.models import Sequential\n",
    "from tensorflow.keras.layers import Flatten, Dense\n",
    "from tensorflow.keras.optimizers import SGD\n",
    "\n",
    "# Training Data Set\n",
    "x_data = np.array([1, 2, 3, 4, 5]).reshape(5,1)\n",
    "t_data = np.array([3, 5, 7, 9, 11]).reshape(5,1)\n",
    "\n",
    "# 데이터 전처리 생략\n",
    "\n",
    "# Model 생성\n",
    "model = Sequential()\n",
    "\n",
    "# Model 안에 Layer 넣기\n",
    "model.add(Flatten(input_shape=(1,)))\n",
    "model.add(Dense(1, activation='linear'))\n",
    "\n",
    "# model 설정\n",
    "# learning_rate 값에 따라 W와 b의 update 값이 달라짐\n",
    "# learning_rate: hyperparameter - 데이터마다 다르다\n",
    "# 적절한 hyperparamter 값은 사용자가 찾아야 함\n",
    "model.compile(optimizer=SGD(learning_rate=1e-2), \n",
    "              loss='mse')\n",
    "\n",
    "# 모델 학습\n",
    "model.fit(x_data,\n",
    "          t_data,\n",
    "          epochs=5000,\n",
    "          verbose=0)\n"
   ]
  },
  {
   "cell_type": "code",
   "execution_count": 3,
   "id": "87449b61",
   "metadata": {},
   "outputs": [
    {
     "name": "stdout",
     "output_type": "stream",
     "text": [
      "1/1 [==============================] - 0s 95ms/step\n"
     ]
    },
    {
     "data": {
      "text/plain": [
       "array([[21.000032]], dtype=float32)"
      ]
     },
     "execution_count": 3,
     "metadata": {},
     "output_type": "execute_result"
    }
   ],
   "source": [
    "# 예측\n",
    "result = model.predict([[10]])\n",
    "result"
   ]
  },
  {
   "cell_type": "code",
   "execution_count": 5,
   "id": "8ae1fb9a",
   "metadata": {},
   "outputs": [
    {
     "data": {
      "text/plain": [
       "array([[21.]])"
      ]
     },
     "execution_count": 5,
     "metadata": {},
     "output_type": "execute_result"
    }
   ],
   "source": [
    "# 예측된 값이 정확한지 확인이 어려움\n",
    "# sklearn을 이용해서 정답과 가장 가까운 값을 알아보고 우리 결과와 비교\n",
    "\n",
    "# sklearn을 이용해서 똑같이 구현\n",
    "import numpy as np\n",
    "from sklearn import linear_model\n",
    "\n",
    "# Training Data Set\n",
    "x_data = np.array([1, 2, 3, 4, 5]).reshape(5,1)\n",
    "t_data = np.array([3, 5, 7, 9, 11]).reshape(5,1)\n",
    "\n",
    "# model 생성\n",
    "sklearn_model = linear_model.LinearRegression()\n",
    "\n",
    "# 학습\n",
    "sklearn_model.fit(x_data, t_data)\n",
    "\n",
    "predict_value = sklearn_model.predict([[10]])\n",
    "predict_value"
   ]
  },
  {
   "cell_type": "code",
   "execution_count": 8,
   "id": "8661fe18",
   "metadata": {},
   "outputs": [
    {
     "data": {
      "text/html": [
       "<div>\n",
       "<style scoped>\n",
       "    .dataframe tbody tr th:only-of-type {\n",
       "        vertical-align: middle;\n",
       "    }\n",
       "\n",
       "    .dataframe tbody tr th {\n",
       "        vertical-align: top;\n",
       "    }\n",
       "\n",
       "    .dataframe thead th {\n",
       "        text-align: right;\n",
       "    }\n",
       "</style>\n",
       "<table border=\"1\" class=\"dataframe\">\n",
       "  <thead>\n",
       "    <tr style=\"text-align: right;\">\n",
       "      <th></th>\n",
       "      <th>Temp</th>\n",
       "      <th>Ozone</th>\n",
       "    </tr>\n",
       "  </thead>\n",
       "  <tbody>\n",
       "    <tr>\n",
       "      <th>0</th>\n",
       "      <td>67</td>\n",
       "      <td>41.0</td>\n",
       "    </tr>\n",
       "    <tr>\n",
       "      <th>1</th>\n",
       "      <td>72</td>\n",
       "      <td>36.0</td>\n",
       "    </tr>\n",
       "    <tr>\n",
       "      <th>2</th>\n",
       "      <td>74</td>\n",
       "      <td>12.0</td>\n",
       "    </tr>\n",
       "    <tr>\n",
       "      <th>3</th>\n",
       "      <td>62</td>\n",
       "      <td>18.0</td>\n",
       "    </tr>\n",
       "    <tr>\n",
       "      <th>5</th>\n",
       "      <td>66</td>\n",
       "      <td>28.0</td>\n",
       "    </tr>\n",
       "    <tr>\n",
       "      <th>...</th>\n",
       "      <td>...</td>\n",
       "      <td>...</td>\n",
       "    </tr>\n",
       "    <tr>\n",
       "      <th>147</th>\n",
       "      <td>63</td>\n",
       "      <td>14.0</td>\n",
       "    </tr>\n",
       "    <tr>\n",
       "      <th>148</th>\n",
       "      <td>70</td>\n",
       "      <td>30.0</td>\n",
       "    </tr>\n",
       "    <tr>\n",
       "      <th>150</th>\n",
       "      <td>75</td>\n",
       "      <td>14.0</td>\n",
       "    </tr>\n",
       "    <tr>\n",
       "      <th>151</th>\n",
       "      <td>76</td>\n",
       "      <td>18.0</td>\n",
       "    </tr>\n",
       "    <tr>\n",
       "      <th>152</th>\n",
       "      <td>68</td>\n",
       "      <td>20.0</td>\n",
       "    </tr>\n",
       "  </tbody>\n",
       "</table>\n",
       "<p>116 rows × 2 columns</p>\n",
       "</div>"
      ],
      "text/plain": [
       "     Temp  Ozone\n",
       "0      67   41.0\n",
       "1      72   36.0\n",
       "2      74   12.0\n",
       "3      62   18.0\n",
       "5      66   28.0\n",
       "..    ...    ...\n",
       "147    63   14.0\n",
       "148    70   30.0\n",
       "150    75   14.0\n",
       "151    76   18.0\n",
       "152    68   20.0\n",
       "\n",
       "[116 rows x 2 columns]"
      ]
     },
     "execution_count": 8,
     "metadata": {},
     "output_type": "execute_result"
    }
   ],
   "source": [
    "# 오존 예제\n",
    "# 독립변수 3개, 종속변수 1개\n",
    "# 온도만 독립변수로 사용\n",
    "# 온도에 따른 오존량 예측\n",
    "\n",
    "import numpy as np\n",
    "import pandas as pd\n",
    "from tensorflow.keras.models import Sequential\n",
    "from tensorflow.keras.layers import Flatten, Dense\n",
    "from tensorflow.keras.optimizers import SGD\n",
    "import matplotlib.pyplot as plt\n",
    "\n",
    "# raw data loading\n",
    "df = pd.read_csv('./data/ozone/ozone.csv')\n",
    "\n",
    "training_data_set = df[['Temp', 'Ozone']]\n",
    "\n",
    "# 제일 처음 해야하는 작업\n",
    "# 전처리: 결측치 제거\n",
    "#     - 1. 삭제\n",
    "#     - 2. 보정\n",
    "# 예제에서는 결치값을 삭제할 것\n",
    "training_data_set = training_data_set.dropna(how='any') # how='any' 행 날림\n",
    "training_data_set # 116 rows"
   ]
  },
  {
   "cell_type": "code",
   "execution_count": 15,
   "id": "6719d299",
   "metadata": {},
   "outputs": [
    {
     "data": {
      "text/plain": [
       "<keras.callbacks.History at 0x17b7eb159a0>"
      ]
     },
     "execution_count": 15,
     "metadata": {},
     "output_type": "execute_result"
    }
   ],
   "source": [
    "# Training Data Set\n",
    "x_data = training_data_set['Temp'].values.reshape(-1, 1)\n",
    "t_data = training_data_set['Ozone'].values.reshape(-1, 1)\n",
    "\n",
    "keras_model = Sequential()\n",
    "\n",
    "keras_model.add(Flatten(input_shape=(1,)))\n",
    "output_layer = Dense(1, activation='linear')\n",
    "keras_model.add(output_layer)\n",
    "\n",
    "keras_model.compile(optimizer=SGD(learning_rate=1e-4),\n",
    "                    loss='mse')\n",
    "\n",
    "keras_model.fit(x_data,\n",
    "                t_data,\n",
    "                epochs=2000,\n",
    "                verbose=0)"
   ]
  },
  {
   "cell_type": "code",
   "execution_count": 16,
   "id": "7efb18b3",
   "metadata": {},
   "outputs": [
    {
     "name": "stdout",
     "output_type": "stream",
     "text": [
      "1/1 [==============================] - 0s 192ms/step\n"
     ]
    },
    {
     "data": {
      "text/plain": [
       "array([[39.78075]], dtype=float32)"
      ]
     },
     "execution_count": 16,
     "metadata": {},
     "output_type": "execute_result"
    }
   ],
   "source": [
    "# 예측\n",
    "keras_predict = keras_model.predict([[62]])\n",
    "keras_predict\n",
    "\n",
    "# 이 값이 정확한지 파악이 어려움"
   ]
  },
  {
   "cell_type": "code",
   "execution_count": 19,
   "id": "abd30d31",
   "metadata": {},
   "outputs": [
    {
     "name": "stdout",
     "output_type": "stream",
     "text": [
      "[[0.6961718]] [-3.3819]\n"
     ]
    },
    {
     "data": {
      "image/png": "[encoded data removed]",
      "text/plain": [
       "<Figure size 640x480 with 1 Axes>"
      ]
     },
     "metadata": {},
     "output_type": "display_data"
    }
   ],
   "source": [
    "# 그래프로 확인\n",
    "# scatter를 이용해 데이터를 화면에 찍기\n",
    "# 모델도 그려보기\n",
    "# W와 b 값을 알아야 한다\n",
    "\n",
    "weights, bias = output_layer.get_weights()\n",
    "print(weights, bias)\n",
    "plt.scatter(x_data, t_data)\n",
    "plt.plot(x_data, x_data * weights + bias, color='r')\n",
    "plt.show()"
   ]
  },
  {
   "cell_type": "code",
   "execution_count": 21,
   "id": "6998d03f",
   "metadata": {},
   "outputs": [
    {
     "data": {
      "text/plain": [
       "array([[3.58411393]])"
      ]
     },
     "execution_count": 21,
     "metadata": {},
     "output_type": "execute_result"
    }
   ],
   "source": [
    "# 같은 데이터를 sklearn으로 학습시키고 예측하고 그래프 그리기\n",
    "# sklearn 구현\n",
    "\n",
    "import numpy as np\n",
    "import pandas as pd\n",
    "from sklearn import linear_model\n",
    "import matplotlib.pyplot as plt\n",
    "\n",
    "# x_data와 t_data는 위에서 이미 만들었다\n",
    "\n",
    "# model 생성\n",
    "sklearn_model = linear_model.LinearRegression()\n",
    "\n",
    "# model 학습\n",
    "sklearn_model.fit(x_data, t_data)\n",
    "\n",
    "# model 예측\n",
    "sklearn_result = sklearn_model.predict([[62]])\n",
    "sklearn_result # array([[3.58411393]])"
   ]
  },
  {
   "cell_type": "code",
   "execution_count": 22,
   "id": "58fa6f31",
   "metadata": {},
   "outputs": [
    {
     "data": {
      "image/png": "[encoded data removed]",
      "text/plain": [
       "<Figure size 640x480 with 1 Axes>"
      ]
     },
     "metadata": {},
     "output_type": "display_data"
    }
   ],
   "source": [
    "# 그래프로 확인\n",
    "# 모델의 W, b 값을 알아야 한다\n",
    "\n",
    "weights = sklearn_model.coef_  # 가중치(W)\n",
    "bias = sklearn_model.intercept_ # bias(b)\n",
    "\n",
    "plt.scatter(x_data, t_data)\n",
    "plt.plot(x_data, x_data * weights + bias, color='g')\n",
    "plt.show()"
   ]
  },
  {
   "cell_type": "code",
   "execution_count": null,
   "id": "e6cdafee",
   "metadata": {},
   "outputs": [],
   "source": [
    "# 정규화(normalization)가 되지 않아서 생긴 문제\n",
    "# 정규화 방법\n",
    "# 1. Min Max Scaling (0~1 사이의 값)\n",
    "# 2. Z-score Normalization\n",
    "# 3. Student's T분포를 이용한 Normalization\n",
    "\n"
   ]
  },
  {
   "cell_type": "code",
   "execution_count": 29,
   "id": "9adc5964",
   "metadata": {},
   "outputs": [
    {
     "data": {
      "text/plain": [
       "<keras.callbacks.History at 0x17b007808e0>"
      ]
     },
     "execution_count": 29,
     "metadata": {},
     "output_type": "execute_result"
    }
   ],
   "source": [
    "# Tensorflow로 구현된 내용을 가져와서 데이터 정규화 후 모델을 다시 학습\n",
    "\n",
    "from sklearn.preprocessing import MinMaxScaler\n",
    "# MinMaxScaler를 이용하면 정규화를 쉽게 할 수 있음\n",
    "scaler_x = MinMaxScaler() # 독립변수를 위한 scaler\n",
    "scaler_t = MinMaxScaler() # 종속변수를 위한 scaler\n",
    "\n",
    "# scaler가 Min과 Max 값을 알아야 함\n",
    "\n",
    "# Training Data Set\n",
    "x_data = training_data_set['Temp'].values.reshape(-1, 1)\n",
    "t_data = training_data_set['Ozone'].values.reshape(-1, 1)\n",
    "\n",
    "scaler_x.fit(x_data)\n",
    "scaler_t.fit(t_data)\n",
    "\n",
    "x_data_norm = scaler_x.transform(x_data)\n",
    "t_data_norm = scaler_t.transform(t_data)\n",
    "\n",
    "keras_model = Sequential()\n",
    "\n",
    "keras_model.add(Flatten(input_shape=(1,)))\n",
    "output_layer = Dense(1, activation='linear')\n",
    "keras_model.add(output_layer)\n",
    "\n",
    "keras_model.compile(optimizer=SGD(learning_rate=1e-2),\n",
    "                    loss='mse')\n",
    "\n",
    "keras_model.fit(x_data_norm,\n",
    "                t_data_norm,\n",
    "                epochs=2000,\n",
    "                verbose=0)"
   ]
  },
  {
   "cell_type": "code",
   "execution_count": 30,
   "id": "a14feba6",
   "metadata": {},
   "outputs": [
    {
     "name": "stdout",
     "output_type": "stream",
     "text": [
      "WARNING:tensorflow:6 out of the last 7 calls to <function Model.make_predict_function.<locals>.predict_function at 0x0000017B00B9DDC0> triggered tf.function retracing. Tracing is expensive and the excessive number of tracings could be due to (1) creating @tf.function repeatedly in a loop, (2) passing tensors with different shapes, (3) passing Python objects instead of tensors. For (1), please define your @tf.function outside of the loop. For (2), @tf.function has reduce_retracing=True option that can avoid unnecessary retracing. For (3), please refer to https://www.tensorflow.org/guide/function#controlling_retracing and https://www.tensorflow.org/api_docs/python/tf/function for  more details.\n",
      "1/1 [==============================] - 0s 36ms/step\n"
     ]
    },
    {
     "data": {
      "text/plain": [
       "array([[3.7446277]], dtype=float32)"
      ]
     },
     "execution_count": 30,
     "metadata": {},
     "output_type": "execute_result"
    }
   ],
   "source": [
    "# 정규화된 예측\n",
    "\n",
    "predict_data = 62\n",
    "scaled_predict_data = scaler_x.transform([[predict_data]]) # array([[0.125]])\n",
    "\n",
    "keras_predict = keras_model.predict(scaled_predict_data) # [[0.34573612]]\n",
    "\n",
    "scaled_keras_predict = scaler_t.inverse_transform(keras_predict)\n",
    "scaled_keras_predict"
   ]
  },
  {
   "cell_type": "code",
   "execution_count": 33,
   "id": "983baccd",
   "metadata": {},
   "outputs": [
    {
     "data": {
      "text/html": [
       "<div>\n",
       "<style scoped>\n",
       "    .dataframe tbody tr th:only-of-type {\n",
       "        vertical-align: middle;\n",
       "    }\n",
       "\n",
       "    .dataframe tbody tr th {\n",
       "        vertical-align: top;\n",
       "    }\n",
       "\n",
       "    .dataframe thead th {\n",
       "        text-align: right;\n",
       "    }\n",
       "</style>\n",
       "<table border=\"1\" class=\"dataframe\">\n",
       "  <thead>\n",
       "    <tr style=\"text-align: right;\">\n",
       "      <th></th>\n",
       "      <th>Ozone</th>\n",
       "      <th>Solar.R</th>\n",
       "      <th>Wind</th>\n",
       "      <th>Temp</th>\n",
       "    </tr>\n",
       "  </thead>\n",
       "  <tbody>\n",
       "    <tr>\n",
       "      <th>0</th>\n",
       "      <td>41.0</td>\n",
       "      <td>190.0</td>\n",
       "      <td>7.4</td>\n",
       "      <td>67</td>\n",
       "    </tr>\n",
       "    <tr>\n",
       "      <th>1</th>\n",
       "      <td>36.0</td>\n",
       "      <td>118.0</td>\n",
       "      <td>8.0</td>\n",
       "      <td>72</td>\n",
       "    </tr>\n",
       "    <tr>\n",
       "      <th>2</th>\n",
       "      <td>12.0</td>\n",
       "      <td>149.0</td>\n",
       "      <td>12.6</td>\n",
       "      <td>74</td>\n",
       "    </tr>\n",
       "    <tr>\n",
       "      <th>3</th>\n",
       "      <td>18.0</td>\n",
       "      <td>313.0</td>\n",
       "      <td>11.5</td>\n",
       "      <td>62</td>\n",
       "    </tr>\n",
       "    <tr>\n",
       "      <th>6</th>\n",
       "      <td>23.0</td>\n",
       "      <td>299.0</td>\n",
       "      <td>8.6</td>\n",
       "      <td>65</td>\n",
       "    </tr>\n",
       "    <tr>\n",
       "      <th>...</th>\n",
       "      <td>...</td>\n",
       "      <td>...</td>\n",
       "      <td>...</td>\n",
       "      <td>...</td>\n",
       "    </tr>\n",
       "    <tr>\n",
       "      <th>147</th>\n",
       "      <td>14.0</td>\n",
       "      <td>20.0</td>\n",
       "      <td>16.6</td>\n",
       "      <td>63</td>\n",
       "    </tr>\n",
       "    <tr>\n",
       "      <th>148</th>\n",
       "      <td>30.0</td>\n",
       "      <td>193.0</td>\n",
       "      <td>6.9</td>\n",
       "      <td>70</td>\n",
       "    </tr>\n",
       "    <tr>\n",
       "      <th>150</th>\n",
       "      <td>14.0</td>\n",
       "      <td>191.0</td>\n",
       "      <td>14.3</td>\n",
       "      <td>75</td>\n",
       "    </tr>\n",
       "    <tr>\n",
       "      <th>151</th>\n",
       "      <td>18.0</td>\n",
       "      <td>131.0</td>\n",
       "      <td>8.0</td>\n",
       "      <td>76</td>\n",
       "    </tr>\n",
       "    <tr>\n",
       "      <th>152</th>\n",
       "      <td>20.0</td>\n",
       "      <td>223.0</td>\n",
       "      <td>11.5</td>\n",
       "      <td>68</td>\n",
       "    </tr>\n",
       "  </tbody>\n",
       "</table>\n",
       "<p>111 rows × 4 columns</p>\n",
       "</div>"
      ],
      "text/plain": [
       "     Ozone  Solar.R  Wind  Temp\n",
       "0     41.0    190.0   7.4    67\n",
       "1     36.0    118.0   8.0    72\n",
       "2     12.0    149.0  12.6    74\n",
       "3     18.0    313.0  11.5    62\n",
       "6     23.0    299.0   8.6    65\n",
       "..     ...      ...   ...   ...\n",
       "147   14.0     20.0  16.6    63\n",
       "148   30.0    193.0   6.9    70\n",
       "150   14.0    191.0  14.3    75\n",
       "151   18.0    131.0   8.0    76\n",
       "152   20.0    223.0  11.5    68\n",
       "\n",
       "[111 rows x 4 columns]"
      ]
     },
     "execution_count": 33,
     "metadata": {},
     "output_type": "execute_result"
    }
   ],
   "source": [
    "# 독립변수 3개 (온도, 태양광세기, 바람)\n",
    "# 1. Tensorflow로 Multiple Linear Regression 구현\n",
    "#     학습이 끝난 후 solar, wind, temp 순으로 [150, 10, 80] 일 때 Ozone은 얼마인가?\n",
    "# 2. sklearn으로 구현해서 비교\n",
    "\n",
    "\n",
    "# raw data loading\n",
    "df = pd.read_csv('./data/ozone/ozone.csv')\n",
    "training_data_set = df.iloc[:,:4]\n",
    "training_data_set = training_data_set.dropna(how='any') # how='any' 행 날림\n",
    "training_data_set # 111 rows"
   ]
  },
  {
   "cell_type": "code",
   "execution_count": 52,
   "id": "ae4cfad3",
   "metadata": {},
   "outputs": [
    {
     "data": {
      "text/plain": [
       "<keras.callbacks.History at 0x17b090e0880>"
      ]
     },
     "execution_count": 52,
     "metadata": {},
     "output_type": "execute_result"
    }
   ],
   "source": [
    "from sklearn.preprocessing import MinMaxScaler\n",
    "# MinMaxScaler를 이용하면 정규화를 쉽게 할 수 있음\n",
    "scaler_x = MinMaxScaler() # 독립변수를 위한 scaler\n",
    "scaler_t = MinMaxScaler() # 종속변수를 위한 scaler\n",
    "\n",
    "# Training Data Set\n",
    "x_data = training_data_set.iloc[:, 1:].values.reshape(-1, 3)\n",
    "t_data = training_data_set['Ozone'].values.reshape(-1, 1)\n",
    "\n",
    "scaler_x.fit(x_data)\n",
    "scaler_t.fit(t_data)\n",
    "\n",
    "x_data_norm = scaler_x.transform(x_data)\n",
    "t_data_norm = scaler_t.transform(t_data)\n",
    "\n",
    "keras_model = Sequential()\n",
    "\n",
    "keras_model.add(Flatten(input_shape=(3,)))\n",
    "output_layer = Dense(1, activation='linear')\n",
    "keras_model.add(output_layer)\n",
    "\n",
    "keras_model.compile(optimizer=SGD(learning_rate=1e-2),\n",
    "                    loss='mse')\n",
    "\n",
    "keras_model.fit(x_data_norm,\n",
    "                t_data_norm,\n",
    "                epochs=5000,\n",
    "                verbose=0)"
   ]
  },
  {
   "cell_type": "code",
   "execution_count": 53,
   "id": "cd81f02b",
   "metadata": {},
   "outputs": [
    {
     "name": "stdout",
     "output_type": "stream",
     "text": [
      "1/1 [==============================] - 0s 35ms/step\n"
     ]
    },
    {
     "data": {
      "text/plain": [
       "array([[43.270187]], dtype=float32)"
      ]
     },
     "execution_count": 53,
     "metadata": {},
     "output_type": "execute_result"
    }
   ],
   "source": [
    "# 정규화된 예측\n",
    "\n",
    "predict_data = [150, 10, 80]\n",
    "scaled_predict_data = scaler_x.transform([predict_data])\n",
    "\n",
    "keras_predict = keras_model.predict(scaled_predict_data)\n",
    "\n",
    "scaled_keras_predict = scaler_t.inverse_transform(keras_predict)\n",
    "scaled_keras_predict"
   ]
  },
  {
   "cell_type": "code",
   "execution_count": 49,
   "id": "bc4291cf",
   "metadata": {},
   "outputs": [
    {
     "data": {
      "text/plain": [
       "array([[43.46252939]])"
      ]
     },
     "execution_count": 49,
     "metadata": {},
     "output_type": "execute_result"
    }
   ],
   "source": [
    "# sklearn 구현\n",
    "\n",
    "import numpy as np\n",
    "import pandas as pd\n",
    "from sklearn import linear_model\n",
    "import matplotlib.pyplot as plt\n",
    "\n",
    "# x_data와 t_data는 위에서 이미 만들었다\n",
    "\n",
    "# model 생성\n",
    "sklearn_model = linear_model.LinearRegression()\n",
    "\n",
    "# model 학습\n",
    "sklearn_model.fit(x_data, t_data)\n",
    "\n",
    "# model 예측\n",
    "sklearn_result = sklearn_model.predict([[150, 10, 80]])\n",
    "sklearn_result"
   ]
  },
  {
   "cell_type": "code",
   "execution_count": null,
   "id": "df6ad76a",
   "metadata": {},
   "outputs": [],
   "source": []
  }
 ],
 "metadata": {
  "kernelspec": {
   "display_name": "Python [conda env:data_env] *",
   "language": "python",
   "name": "conda-env-data_env-py"
  },
  "language_info": {
   "codemirror_mode": {
    "name": "ipython",
    "version": 3
   },
   "file_extension": ".py",
   "mimetype": "text/x-python",
   "name": "python",
   "nbconvert_exporter": "python",
   "pygments_lexer": "ipython3",
   "version": "3.8.17"
  }
 },
 "nbformat": 4,
 "nbformat_minor": 5
}
