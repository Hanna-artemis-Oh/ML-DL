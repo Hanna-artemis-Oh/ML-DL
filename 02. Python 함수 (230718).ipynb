{
 "cells": [
  {
   "cell_type": "code",
   "execution_count": 6,
   "id": "329b4f66",
   "metadata": {},
   "outputs": [
    {
     "name": "stdout",
     "output_type": "stream",
     "text": [
      "6\n",
      "(6, 6)\n",
      "200\n"
     ]
    }
   ],
   "source": [
    "# Python의 함수는 다음과 같이 만든다\n",
    "\n",
    "# 함수명은 가독성을 높이기 위해 소문자를 사용\n",
    "# Java 의 경우 Camel Case\n",
    "# Python 은 분리된 단어는 밑줄로 표현, Snake Case\n",
    "# myFunc -> Java Style, my_func -> Python Style\n",
    "\n",
    "# 사용자 정의 함수 만들기\n",
    "# 함수를 정의하기 위한 keyword => def\n",
    "\n",
    "def my_sum(a, b, c):\n",
    "    return a + b + c\n",
    "\n",
    "result = my_sum(1, 2, 3)\n",
    "print(result)\n",
    "\n",
    "# 함수의 body가 없는 경우에는\n",
    "# 함수가 하는 일이 없는 경우에는 pass라는 keyword를 사용\n",
    "\n",
    "def my_sum(a, b, c):\n",
    "    pass\n",
    "\n",
    "# Python은 여러 개의 값을 리턴 할 수 있다?\n",
    "# 실제로는 tuple을 리턴하는 것이다\n",
    "\n",
    "def my_sum(a, b, c):\n",
    "    result1 = a + b + c\n",
    "    result2 = a * b * c\n",
    "    return result1, result2\n",
    "\n",
    "result = my_sum(1, 2, 3)\n",
    "print(result) # (6, 6)\n",
    "\n",
    "tmp = 100\n",
    "\n",
    "\n",
    "def my_func(x):\n",
    "    # 여기서 지역변수가 아닌 전역변수를 사용 가능\n",
    "    global tmp\n",
    "    # 하지만 좋은 방식이 아님\n",
    "    # 전역변수를 사용하면 Code 가 Tightly Coupled\n",
    "    tmp += x\n",
    "    return tmp\n",
    "\n",
    "result = my_func(100)\n",
    "print(result) # 200\n"
   ]
  },
  {
   "cell_type": "code",
   "execution_count": 8,
   "id": "5cd98af9",
   "metadata": {},
   "outputs": [
    {
     "name": "stdout",
     "output_type": "stream",
     "text": [
      "100\n",
      "8\n"
     ]
    }
   ],
   "source": [
    "# 내장 함수\n",
    "# 매우 많다\n",
    "# 많이 사용하는 내장함수\n",
    "\n",
    "a = int('100')\n",
    "print(a)\n",
    "\n",
    "result = len('안녕하세요 바보')\n",
    "print(result) # 8\n",
    "\n",
    "# type(), list(), tuple(), dict(), set(), ...\n",
    "\n"
   ]
  },
  {
   "cell_type": "code",
   "execution_count": null,
   "id": "34d77c60",
   "metadata": {},
   "outputs": [],
   "source": [
    "# Python 의 객체지향\n",
    "# class -> 상속 및 기타 객체지향 개념"
   ]
  },
  {
   "cell_type": "code",
   "execution_count": null,
   "id": "5b2d0a53",
   "metadata": {},
   "outputs": [],
   "source": [
    "# Python 데이터 처리\n",
    "# Numpy (Numerical Python)\n",
    "\n",
    "# Numpy: Module(Library) -> 수치 계산을 쉽게할 수 있도록 도와줌, 외부 Module\n",
    "# Numpy는 대규모의 다차원 배열과 행렬처리를 편하게 하기 위해 사용\n",
    "# 다차원 배열\n",
    "# 머신러닝, 딥러닝은 결국 행렬 계산\n",
    "# ML, DL의 기본 자료구조는 Numpy의 자료구조를 기본으로 함\n",
    "# Numpy가 가지고 있는 기본 자료구조\n",
    "# ndarray (n-Dimensional Array) -> 다차원 배열을 지칭\n",
    "# 자료구조의 이해 필요\n"
   ]
  },
  {
   "cell_type": "code",
   "execution_count": 3,
   "id": "1f61bb18",
   "metadata": {},
   "outputs": [
    {
     "name": "stdout",
     "output_type": "stream",
     "text": [
      "1.24.3\n"
     ]
    }
   ],
   "source": [
    "# Numpy는 외부 module이라서 설치 필요\n",
    "# 가상환경에 설치\n",
    "# 어제 이미 설치\n",
    "# 명령어: conda install numpy\n",
    "\n",
    "\n",
    "import numpy as np\n",
    "\n",
    "print(np.__version__)"
   ]
  },
  {
   "cell_type": "code",
   "execution_count": 5,
   "id": "d0031efc",
   "metadata": {},
   "outputs": [
    {
     "name": "stdout",
     "output_type": "stream",
     "text": [
      "[1, 2, 3, 4]\n",
      "<class 'list'>\n",
      "[1 2 3 4]\n",
      "<class 'numpy.ndarray'>\n"
     ]
    }
   ],
   "source": [
    "# ndarray 생성 및 확인\n",
    "\n",
    "# 가장 쉽게 ndarray를 만드는 방법: python의 list 이용\n",
    "a = [1, 2, 3, 4]\n",
    "print(a) # [1, 2, 3, 4]\n",
    "print(type(a)) # <class 'list'>\n",
    "\n",
    "b = np.array(a)\n",
    "print(b) # [1 2 3 4] - 1차원 vector\n",
    "print(type(b)) # <class 'numpy.ndarray'>\n"
   ]
  },
  {
   "cell_type": "code",
   "execution_count": 10,
   "id": "15f0471d",
   "metadata": {},
   "outputs": [
    {
     "name": "stdout",
     "output_type": "stream",
     "text": [
      "[[1 2 3]\n",
      " [4 5 6]]\n",
      "5\n",
      "[4 5 6]\n",
      "6\n"
     ]
    }
   ],
   "source": [
    "# 2차원 형태의 ndarray 만들기\n",
    "\n",
    "my_list = [[1,2,3], [4,5,6]]\n",
    "arr = np.array(my_list)\n",
    "\n",
    "print(arr) # 2차원 ndarray (2행 3열)\n",
    "\n",
    "print(arr[1,1])  # 5\n",
    "print(arr[1])    # [4 5 6] -> 1차원 ndarray\n",
    "print(arr[1][2]) # 6"
   ]
  },
  {
   "cell_type": "code",
   "execution_count": 11,
   "id": "75c87fa5",
   "metadata": {},
   "outputs": [
    {
     "name": "stdout",
     "output_type": "stream",
     "text": [
      "[[1. 2. 3.]\n",
      " [4. 5. 6.]]\n"
     ]
    }
   ],
   "source": [
    "my_list = [[1,2,3], [4,5,6]]\n",
    "\n",
    "# 일반적으로 ndarray 를 사용할 때는 실수를 사용\n",
    "arr = np.array(my_list, dtype=np.float64)\n",
    "print(arr)"
   ]
  },
  {
   "cell_type": "code",
   "execution_count": 12,
   "id": "2468a2b9",
   "metadata": {},
   "outputs": [
    {
     "name": "stdout",
     "output_type": "stream",
     "text": [
      "[[1. 2. 3.]\n",
      " [4. 5. 6.]]\n"
     ]
    }
   ],
   "source": [
    "my_list = [[1,2,3], [4,5,6.0]]\n",
    "\n",
    "# array의 가장 큰 특징\n",
    "#     - 일단 사이즈가 결정되면 변경 불가\n",
    "#     - 모든 칸에 같은 데이터 타입이 들어감\n",
    "#     - 따라서 ndarray로 변환시 더 넓음 범주의 값으로 타입을 자동으로 맞춰줌\n",
    "\n",
    "arr = np.array(my_list)\n",
    "print(arr)"
   ]
  },
  {
   "cell_type": "code",
   "execution_count": 16,
   "id": "cb0b7a2a",
   "metadata": {},
   "outputs": [
    {
     "name": "stdout",
     "output_type": "stream",
     "text": [
      "[1 2 3 4]\n",
      "1\n",
      "(4,)\n"
     ]
    }
   ],
   "source": [
    "# ndarray 가 가지는 중요한 속성 2가지\n",
    "# ndim 은 잘 쓰이지 않음\n",
    "# shape 은 많이 쓰임\n",
    "\n",
    "\n",
    "my_list = [1, 2, 3, 4]\n",
    "arr = np.array(my_list) # 1차원 ndarray\n",
    "print(arr)\n",
    "\n",
    "print(arr.ndim)  # 1 -> 차원의 값을 숫자로 나타냄\n",
    "print(arr.shape) # (4,) -> shape의 결과값은 tuple\n",
    "                 # (3,) -> 1차원\n",
    "                 # (4, 5) -> 2차원\n",
    "                 # (1, 5, 4) -> 3차원\n",
    "                 # 각 숫자는 해당 차원의 요소의 개수를 나타냄"
   ]
  },
  {
   "cell_type": "code",
   "execution_count": 19,
   "id": "a1dfec5a",
   "metadata": {},
   "outputs": [
    {
     "name": "stdout",
     "output_type": "stream",
     "text": [
      "[[1 2 3]\n",
      " [4 5 6]]\n",
      "2\n",
      "(2, 3)\n"
     ]
    }
   ],
   "source": [
    "my_list = [[1, 2, 3], [4, 5, 6]]\n",
    "arr = np.array(my_list) # 2차원 ndarray\n",
    "print(arr)\n",
    "\n",
    "print(arr.ndim)  # 2\n",
    "print(arr.shape) # (2, 3)"
   ]
  },
  {
   "cell_type": "code",
   "execution_count": 20,
   "id": "18b7b466",
   "metadata": {},
   "outputs": [
    {
     "name": "stdout",
     "output_type": "stream",
     "text": [
      "[[[1 2 3]\n",
      "  [4 5 6]]\n",
      "\n",
      " [[1 2 3]\n",
      "  [4 5 6]]]\n",
      "3\n",
      "(2, 2, 3)\n"
     ]
    }
   ],
   "source": [
    "my_list = [[[1, 2, 3], [4, 5, 6]], [[1, 2, 3], [4, 5, 6]]]\n",
    "arr = np.array(my_list) # 3차원 ndarray\n",
    "print(arr)\n",
    "\n",
    "print(arr.ndim)  # 3\n",
    "print(arr.shape) # (2, 2, 3)"
   ]
  },
  {
   "cell_type": "code",
   "execution_count": 28,
   "id": "772b5157",
   "metadata": {},
   "outputs": [
    {
     "name": "stdout",
     "output_type": "stream",
     "text": [
      "[[1 2 3]\n",
      " [4 5 6]]\n",
      "6\n",
      "2\n"
     ]
    }
   ],
   "source": [
    "my_list = [[1, 2, 3], [4, 5, 6]]\n",
    "arr = np.array(my_list) # 2차원 ndarray\n",
    "print(arr)\n",
    "\n",
    "print(arr.size) # size -> ndarray의 요소의 개수\n",
    "print(len(arr)) # 2 : len -> 제일 상위 차원의 요소의 개수"
   ]
  },
  {
   "cell_type": "code",
   "execution_count": 29,
   "id": "8cbb9c50",
   "metadata": {},
   "outputs": [
    {
     "name": "stdout",
     "output_type": "stream",
     "text": [
      "[[1. 2. 3.]\n",
      " [4. 5. 6.]]\n"
     ]
    }
   ],
   "source": [
    "my_list = [[1, 2, 3], [4, 5, 6]]\n",
    "arr = np.array(my_list) # 2차원 ndarray\n",
    "\n",
    "# ndarray 의 data type 변환\n",
    "# 정수 -> 실수로 혹은 실수 -> 정수로\n",
    "arr = arr.astype(np.float64)\n",
    "\n",
    "print(arr)"
   ]
  },
  {
   "cell_type": "code",
   "execution_count": 30,
   "id": "06c53b48",
   "metadata": {},
   "outputs": [
    {
     "name": "stdout",
     "output_type": "stream",
     "text": [
      "[[0. 0. 0. 0.]\n",
      " [0. 0. 0. 0.]\n",
      " [0. 0. 0. 0.]]\n"
     ]
    }
   ],
   "source": [
    "# ndarray를 만드는 다른 방법\n",
    "\n",
    "# zeros의 인자로 shape을 넘김\n",
    "# shape 은 tuple 타입\n",
    "arr = np.zeros((3, 4)) # shape 형태로 모든 요소가 0으로 초기화된 ndarray 생성\n",
    "print(arr)"
   ]
  },
  {
   "cell_type": "code",
   "execution_count": 31,
   "id": "45636a4a",
   "metadata": {},
   "outputs": [
    {
     "name": "stdout",
     "output_type": "stream",
     "text": [
      "[[1. 1. 1. 1. 1.]\n",
      " [1. 1. 1. 1. 1.]\n",
      " [1. 1. 1. 1. 1.]\n",
      " [1. 1. 1. 1. 1.]\n",
      " [1. 1. 1. 1. 1.]\n",
      " [1. 1. 1. 1. 1.]\n",
      " [1. 1. 1. 1. 1.]\n",
      " [1. 1. 1. 1. 1.]\n",
      " [1. 1. 1. 1. 1.]\n",
      " [1. 1. 1. 1. 1.]]\n"
     ]
    }
   ],
   "source": [
    "# ndarray를 만드는 다른 방법\n",
    "\n",
    "arr = np.ones((10, 5)) # shape 형태로 모든 요소가 1으로 초기화된 ndarray 생성\n",
    "print(arr)"
   ]
  },
  {
   "cell_type": "code",
   "execution_count": 32,
   "id": "0264dd87",
   "metadata": {},
   "outputs": [
    {
     "name": "stdout",
     "output_type": "stream",
     "text": [
      "[[6.23042070e-307 4.67296746e-307 1.69121096e-306 2.22522461e-306\n",
      "  7.56599807e-307]\n",
      " [8.90104239e-307 9.34593493e-307 6.23059726e-307 7.56603881e-307\n",
      "  1.95821439e-306]\n",
      " [8.01097889e-307 1.78020169e-306 7.56601165e-307 1.02359984e-306\n",
      "  1.33510679e-306]\n",
      " [2.22522597e-306 6.23053614e-307 1.60221072e-306 1.42410974e-306\n",
      "  8.34402697e-308]]\n"
     ]
    }
   ],
   "source": [
    "arr = np.empty((4, 5)) # shape 형태로 모든 요소가 초기화가 안된 ndarray 생성, garbage 값이 들어있음\n",
    "print(arr)"
   ]
  },
  {
   "cell_type": "code",
   "execution_count": 33,
   "id": "0741cbc7",
   "metadata": {},
   "outputs": [
    {
     "data": {
      "text/plain": [
       "array([[7, 7, 7, 7, 7],\n",
       "       [7, 7, 7, 7, 7],\n",
       "       [7, 7, 7, 7, 7],\n",
       "       [7, 7, 7, 7, 7]])"
      ]
     },
     "execution_count": 33,
     "metadata": {},
     "output_type": "execute_result"
    }
   ],
   "source": [
    "arr = np.full((4, 5), 7) # shape 형태로 모든 요소가 내가 결정한 값(7)으로 초기화된 ndarray 생성\n",
    "arr"
   ]
  },
  {
   "cell_type": "code",
   "execution_count": 35,
   "id": "a4eef100",
   "metadata": {},
   "outputs": [
    {
     "name": "stdout",
     "output_type": "stream",
     "text": [
      "[0 1 2 3 4 5 6 7 8]\n"
     ]
    }
   ],
   "source": [
    "# ndarray를 만드는 다른 방법\n",
    "# arange() -> python의 range() 와 유사\n",
    "# python의 range()는 데이터를 가지고 있지 않음, 범위만 지칭\n",
    "# numpy의 arange()는 실제 데이터를 가지는 ndarray를 생성\n",
    "\n",
    "arr = np.arange(9) # 1차원 ndarray 생성\n",
    "print(arr)"
   ]
  },
  {
   "cell_type": "code",
   "execution_count": 42,
   "id": "ef827c97",
   "metadata": {},
   "outputs": [
    {
     "name": "stdout",
     "output_type": "stream",
     "text": [
      "[[50.7851595  48.14163067 50.15966362 49.680967  ]\n",
      " [50.04444365 49.14441417 48.93636518 49.765049  ]\n",
      " [50.4441578  48.464047   50.2849292  49.93069563]]\n",
      "[[ 2 50  6 20]\n",
      " [72 38 17  3]\n",
      " [88 59 13  8]]\n",
      "[[51 92 14 71]\n",
      " [60 20 82 86]\n",
      " [74 74 87 99]]\n"
     ]
    }
   ],
   "source": [
    "# ndarray를 만드는 다른 방법\n",
    "# random 기반으로 생성하는 방법\n",
    "\n",
    "# 5 가지 방식\n",
    "# 가장 대표적인 2개 함수\n",
    "\n",
    "# 1. np.random.normal() \n",
    "#     - random 값으로 채워진 ndarray 생성, normal(): 일반 정규분포\n",
    "#     - 일반 정규분포는 평균과 표준편차를 알아야 함\n",
    "mean = 50 # 평균\n",
    "std = 2   # 표준편차\n",
    "\n",
    "arr = np.random.normal(mean, std, (3, 4))\n",
    "print(arr)\n",
    "\n",
    "\n",
    "# 2. np.random.randint()\n",
    "#     - 주어진 범위 내에서 정수현 난수를 균등분포로 도출해주는 함수\n",
    "arr = np.random.randint(0, 100, (3, 4))\n",
    "print(arr)\n",
    "\n",
    "\n",
    "# 랜덤 값 = 난수\n",
    "# 컴퓨터가 난수를 도출할 때는 특정 알고리즘을 사용\n",
    "# 이 알고리즘의 seed 값을 고정하면 항상 같은 값을 도출\n",
    "np.random.seed(42)\n",
    "arr = np.random.randint(0, 100, (3, 4))\n",
    "print(arr)"
   ]
  },
  {
   "cell_type": "code",
   "execution_count": 50,
   "id": "63bdb96c",
   "metadata": {},
   "outputs": [
    {
     "name": "stdout",
     "output_type": "stream",
     "text": [
      "[[1 2 3]\n",
      " [4 5 6]]\n",
      "(2, 3)\n",
      "[[1 2]\n",
      " [3 4]\n",
      " [5 6]]\n",
      "1\n",
      "[[100   2]\n",
      " [  3   4]\n",
      " [  5   6]]\n",
      "[[100   2   3]\n",
      " [  4   5   6]]\n"
     ]
    }
   ],
   "source": [
    "# shape\n",
    "# shape을 원하는 대로 변경 가능\n",
    "\n",
    "my_list = [[1, 2, 3], [4, 5, 6]]\n",
    "arr = np.array(my_list) # 2차원 ndarray\n",
    "print(arr)\n",
    "print(arr.shape) # (2, 3)\n",
    "\n",
    "new_arr = arr.reshape(3,2)\n",
    "print(new_arr)\n",
    "\n",
    "print(new_arr[0, 0]) # 1\n",
    "new_arr[0, 0] = 100\n",
    "print(new_arr)\n",
    "print(arr) \n",
    "\n",
    "# reshape 을 하면 새로운 ndarray 가 만들어지는 것이 아님\n",
    "# shape 만 바뀐 view 가 만들어짐\n",
    "# 데이터는 원본과 같음\n"
   ]
  },
  {
   "cell_type": "code",
   "execution_count": 54,
   "id": "20df2970",
   "metadata": {},
   "outputs": [
    {
     "name": "stdout",
     "output_type": "stream",
     "text": [
      "[[1 2 3]\n",
      " [4 5 6]]\n",
      "[[[1 2 3]]\n",
      "\n",
      " [[4 5 6]]]\n"
     ]
    }
   ],
   "source": [
    "my_list = [[1, 2, 3], [4, 5, 6]]\n",
    "arr = np.array(my_list) # 2차원 ndarray\n",
    "\n",
    "print(arr) # 2 x 3\n",
    "\n",
    "\n",
    "# -1 의 의미: reshape 할 때 알아서 계산\n",
    "new_arr = arr.reshape(-1, 1, 3)\n",
    "print(new_arr)"
   ]
  },
  {
   "cell_type": "code",
   "execution_count": 58,
   "id": "b846f73a",
   "metadata": {},
   "outputs": [
    {
     "name": "stdout",
     "output_type": "stream",
     "text": [
      "[[ 0  1  2  3]\n",
      " [ 4  5  6  7]\n",
      " [ 8  9 10 11]]\n"
     ]
    },
    {
     "data": {
      "text/plain": [
       "array([ 0,  1,  2,  3,  4,  5,  6,  7,  8,  9, 10, 11])"
      ]
     },
     "execution_count": 58,
     "metadata": {},
     "output_type": "execute_result"
    }
   ],
   "source": [
    "# ndarray 를 arange를 이용해 만들기\n",
    "# copy() 를 이용하면 ndarray를 메모리 상에 만든다\n",
    "# 더이상 view가 아님\n",
    "arr = np.arange(12).reshape(3, 4).copy()\n",
    "\n",
    "print(arr)\n",
    "\n",
    "\n",
    "# ravel()\n",
    "# ravel() 은 무조건 1차원 view 로 만듦\n",
    "print(arr.ravel())"
   ]
  },
  {
   "cell_type": "code",
   "execution_count": 61,
   "id": "885036b8",
   "metadata": {},
   "outputs": [
    {
     "name": "stdout",
     "output_type": "stream",
     "text": [
      "[[ 0  1  2  3]\n",
      " [ 4  5  6  7]\n",
      " [ 8  9 10 11]]\n",
      "[[ 0  1  2  3  4]\n",
      " [ 5  6  7  8  9]\n",
      " [10 11  0  1  2]]\n",
      "[[0 1]\n",
      " [2 3]]\n"
     ]
    }
   ],
   "source": [
    "# 기본적으로 알아두면 좋은 방식\n",
    "\n",
    "arr = np.arange(12).reshape(3, 4).copy()\n",
    "\n",
    "print(arr) \n",
    "\n",
    "new_arr = np.resize(arr, (3, 5)) # 원소의 수가 맞지 않아도 바꿀 수 있다\n",
    "                                 # 데이터를 추가하여 바꾸기 때문에 View가 아님\n",
    "                                 # 다른 ndarray 를 생성\n",
    "print(new_arr)\n",
    "\n",
    "new_arr = np.resize(arr, (2, 2)) # 데이터가 잘림\n",
    "print(new_arr)"
   ]
  },
  {
   "cell_type": "code",
   "execution_count": 68,
   "id": "d9e2151b",
   "metadata": {},
   "outputs": [
    {
     "name": "stdout",
     "output_type": "stream",
     "text": [
      "[10 11 12 13 14 15 16 17 18 19]\n",
      "12\n",
      "[15 16 17 18]\n",
      "[[10 11 12 13]\n",
      " [14 15 16 17]\n",
      " [18 19 20 21]]\n",
      "17\n",
      "[18 19 20 21]\n",
      "[[14 15]]\n"
     ]
    }
   ],
   "source": [
    "# ndarray 에 대해 indexing, slicing 다루기 -> 가장 기반이 되는 기술\n",
    "\n",
    "arr = np.arange(10, 20, 1)\n",
    "print(arr)\n",
    "print(arr[2]) # 12\n",
    "print(arr[5:-1]) # [15 16 17 18] \n",
    "\n",
    "arr = np.arange(10, 22, 1).reshape(3, 4)\n",
    "print(arr)\n",
    "\n",
    "print(arr[1, 3]) # indexing -> scalar\n",
    "print(arr[2, :]) # indexing & slicing -> 1차원\n",
    "print(arr[1:2, 0:2]) # slicing & slicing -> 2차원"
   ]
  },
  {
   "cell_type": "code",
   "execution_count": 93,
   "id": "5535184b",
   "metadata": {},
   "outputs": [
    {
     "name": "stdout",
     "output_type": "stream",
     "text": [
      "[5 8 9 5 0 0 1 7 6 9]\n",
      "[False  True False False  True  True False False  True False]\n",
      "[8 0 0 6]\n",
      "[[2 4 5 2]\n",
      " [4 2 4 7]\n",
      " [7 9 1 7]]\n",
      "[[ True  True False  True]\n",
      " [ True  True  True False]\n",
      " [False False False False]]\n",
      "[2 4 2 4 2 4]\n"
     ]
    }
   ],
   "source": [
    "# indexing 종류\n",
    "#     - 기본적인 indexing: 숫자 indexing\n",
    "#     - Boolean Indexing\n",
    "#     - Fancy Indexing\n",
    "\n",
    "\n",
    "# Boolean Indexing\n",
    "# 배열의 각 요소의 indexing 여부(선택 여부)를 True, False로 구성된 boolean mask를 이용해 지정하는 방식\n",
    "# boolean mask에서 True 로 지정된 요소만 indexing\n",
    "# boolean mask: arr과 shape이 같음, True, False 의 값만 있음\n",
    "\n",
    "np.random.seed(1)\n",
    "arr = np.random.randint(0, 10, (10,))\n",
    "print(arr)\n",
    "\n",
    "# 이 중 짝수만 추출\n",
    "# boolean mask 이용\n",
    "# ndarray 에 대해서 연산을 수행하면 broadcasting 과 각 위치에 관한 연산이 수행됨\n",
    "# broadcasting: 자기 차원을 늘림\n",
    "\n",
    "# [5 8 9 5 0 0 1 7 6 9] % [2 2 2 2 2 2 2 2 2 2] == 0\n",
    "# [False True ...]\n",
    "\n",
    "print(arr % 2 == 0) # [False  True False False  True  True False False  True False]\n",
    "                    # Boolean Mask\n",
    "\n",
    "print(arr[arr % 2 == 0]) # [8 0 0 6]\n",
    "\n",
    "\n",
    "# 2차원일 때\n",
    "arr = np.random.randint(0, 10, (3,4))\n",
    "print(arr)\n",
    "print(arr % 2 == 0)\n",
    "print(arr[arr % 2 == 0])\n",
    "\n",
    "\n",
    "# boolean indexing 은 조건을 통해 원하는 데이터를 추출하기 위해 사용\n"
   ]
  },
  {
   "cell_type": "code",
   "execution_count": 105,
   "id": "e93365fb",
   "metadata": {},
   "outputs": [
    {
     "name": "stdout",
     "output_type": "stream",
     "text": [
      "[[5 8 9 5]\n",
      " [0 0 1 7]\n",
      " [6 9 2 4]]\n",
      "[6 2]\n",
      "[8 4]\n",
      "[[8 5]\n",
      " [9 4]]\n"
     ]
    }
   ],
   "source": [
    "# Fancy Indexing\n",
    "# 배열에 index 배열을 전달해서 배열 요소를 참조하는 방식\n",
    "\n",
    "np.random.seed(1)\n",
    "arr = np.random.randint(0, 10, (3,4))\n",
    "print(arr)\n",
    "\n",
    "# 6, 2만 가져오기\n",
    "print(arr[2, [0,2]])\n",
    "\n",
    "\n",
    "# 8, 5, 9, 4 가져오기\n",
    "print(arr[[0, 2], [1, 3]]) # [8 4]\n",
    "                           # 여러 차원에 Fancy Indexing이 들어가 있으면 원하는대로 추출되지 않음\n",
    "\n",
    "# numpy 함수 이용\n",
    "# np.ix_([0, 2], [1, 3])\n",
    "print(arr[np.ix_([0, 2], [1, 3])])"
   ]
  },
  {
   "cell_type": "code",
   "execution_count": 111,
   "id": "e522a92b",
   "metadata": {},
   "outputs": [
    {
     "name": "stdout",
     "output_type": "stream",
     "text": [
      "[[12 14 16]\n",
      " [18 20 22]]\n",
      "[[-10 -10 -10]\n",
      " [-10 -10 -10]]\n",
      "[[11 24 39]\n",
      " [56 75 96]]\n",
      "[[0.09090909 0.16666667 0.23076923]\n",
      " [0.28571429 0.33333333 0.375     ]]\n"
     ]
    }
   ],
   "source": [
    "# 4칙 연산 수행\n",
    "arr1 = np.array([[1,2,3],[4,5,6]])\n",
    "arr2 = np.array([[11,12,13],[14,15,16]])\n",
    "\n",
    "# 같은 위치의 원소끼리 연산을 수행\n",
    "# python의 list는 + 연산시 연결\n",
    "print(arr1 + arr2)\n",
    "print(arr1 - arr2)\n",
    "print(arr1 * arr2)\n",
    "print(arr1 / arr2)"
   ]
  },
  {
   "cell_type": "code",
   "execution_count": 112,
   "id": "ded0c1ea",
   "metadata": {},
   "outputs": [
    {
     "data": {
      "text/plain": [
       "array([[ 82,  88],\n",
       "       [199, 214]])"
      ]
     },
     "execution_count": 112,
     "metadata": {},
     "output_type": "execute_result"
    }
   ],
   "source": [
    "np.matmul(arr1, arr2.reshape(3,2)) # 결과는 2x2"
   ]
  },
  {
   "cell_type": "code",
   "execution_count": 117,
   "id": "8705c135",
   "metadata": {},
   "outputs": [
    {
     "name": "stdout",
     "output_type": "stream",
     "text": [
      "[[1 2 3]\n",
      " [4 5 6]]\n",
      "21\n",
      "21\n",
      "3.5\n",
      "6\n",
      "1\n",
      "5\n",
      "1.707825127659933\n"
     ]
    }
   ],
   "source": [
    "# numpy는 수치연산에 특화된 library이기 때문에 여러 집계 함수를 제공\n",
    "\n",
    "arr = np.arange(1,7,1).reshape(2,3).copy()\n",
    "print(arr)\n",
    "\n",
    "print(np.sum(arr)) # 21\n",
    "print(arr.sum())   # 21\n",
    "\n",
    "print(arr.mean())\n",
    "print(arr.max())\n",
    "print(arr.min())\n",
    "\n",
    "print(arr.argmax()) # 1차원으로 변경하여 최댓값의 인덱스 값을 리턴 -> 5\n",
    "print(arr.std())    # 표준편차\n",
    "\n",
    "# numpy의 모든 집계함수는 axis를 기준으로 계산\n",
    "# 위의 경우 axis는 None으로 간주, 전체를 대상으로 집계함수 적용\n"
   ]
  },
  {
   "cell_type": "code",
   "execution_count": 121,
   "id": "f497d4ff",
   "metadata": {},
   "outputs": [
    {
     "name": "stdout",
     "output_type": "stream",
     "text": [
      "[1 2 3 4 5 6]\n",
      "[[1 2]\n",
      " [3 4]\n",
      " [5 6]]\n",
      "21\n",
      "[ 9 12]\n",
      "[ 3  7 11]\n"
     ]
    }
   ],
   "source": [
    "arr = np.arange(1,7,1)\n",
    "print(arr)\n",
    "\n",
    "# axis는 축을 의미, 숫자로 표현\n",
    "# axis는 1차원일 때 1개, 2차원일 때 2개, 3차원일 때 3개\n",
    "arr.sum(axis=0)\n",
    "\n",
    "arr = np.arange(1,7,1).reshape(3,2)\n",
    "print(arr)\n",
    "\n",
    "print(arr.sum())       # 21\n",
    "print(arr.sum(axis=0)) # [ 9 12]\n",
    "print(arr.sum(axis=1)) # [ 3  7 11]"
   ]
  },
  {
   "cell_type": "code",
   "execution_count": 124,
   "id": "53de1d73",
   "metadata": {},
   "outputs": [
    {
     "name": "stdout",
     "output_type": "stream",
     "text": [
      "[[ 1  2  3  4]\n",
      " [ 5  6  7  8]\n",
      " [ 9 10 11 12]\n",
      " [13 14 15 16]]\n",
      "[11 12 13 14 15 16]\n",
      "6\n"
     ]
    }
   ],
   "source": [
    "# 연습문제\n",
    "\n",
    "# 1부터 16까지 숫자로 구성된 2차원 ndarray 를 생성하세요\n",
    "# 4 X 4 형태\n",
    "\n",
    "# 만들어진 ndarray 안에 10보다 큰 숫자가 몇 개 있는지 알아내는 코드를 작성하세요\n",
    "# Hint: 조건 -> boolean indexing\n",
    "\n",
    "arr = np.arange(1,17,1).reshape(4,4).copy()\n",
    "print(arr)\n",
    "\n",
    "print(arr[arr > 10])\n",
    "\n",
    "print(len(arr[arr > 10]))"
   ]
  },
  {
   "cell_type": "code",
   "execution_count": 127,
   "id": "c716399b",
   "metadata": {},
   "outputs": [
    {
     "name": "stdout",
     "output_type": "stream",
     "text": [
      "[[ 1  2  3  4]\n",
      " [ 5  6  7  8]\n",
      " [ 9 10 11 12]\n",
      " [13 14 15 16]]\n",
      "[[False False False False]\n",
      " [False False False False]\n",
      " [False False  True  True]\n",
      " [ True  True  True  True]]\n",
      "6\n"
     ]
    }
   ],
   "source": [
    "arr = np.arange(1,17,1).reshape(4,4).copy()\n",
    "print(arr)\n",
    "print(arr > 10)\n",
    "\n",
    "# True는 1로 간주, False는 0으로 간주\n",
    "print((arr > 10).sum())"
   ]
  },
  {
   "cell_type": "code",
   "execution_count": null,
   "id": "d640f527",
   "metadata": {},
   "outputs": [],
   "source": [
    "# 내일은 Pandas library 이용\n",
    "# Pandas: 실제 데이터 분석, 데이터 탐색을 위한 library"
   ]
  }
 ],
 "metadata": {
  "kernelspec": {
   "display_name": "Python [conda env:data_env] *",
   "language": "python",
   "name": "conda-env-data_env-py"
  },
  "language_info": {
   "codemirror_mode": {
    "name": "ipython",
    "version": 3
   },
   "file_extension": ".py",
   "mimetype": "text/x-python",
   "name": "python",
   "nbconvert_exporter": "python",
   "pygments_lexer": "ipython3",
   "version": "3.8.17"
  }
 },
 "nbformat": 4,
 "nbformat_minor": 5
}
